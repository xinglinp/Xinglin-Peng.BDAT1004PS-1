{
 "cells": [
  {
   "cell_type": "markdown",
   "metadata": {},
   "source": [
    "Question 1： What data type is each of the following?"
   ]
  },
  {
   "cell_type": "code",
   "execution_count": 1,
   "metadata": {},
   "outputs": [
    {
     "data": {
      "text/plain": [
       "str"
      ]
     },
     "execution_count": 1,
     "metadata": {},
     "output_type": "execute_result"
    }
   ],
   "source": [
    "type ('5')"
   ]
  },
  {
   "cell_type": "code",
   "execution_count": 2,
   "metadata": {},
   "outputs": [
    {
     "data": {
      "text/plain": [
       "float"
      ]
     },
     "execution_count": 2,
     "metadata": {},
     "output_type": "execute_result"
    }
   ],
   "source": [
    "type(5.0)"
   ]
  },
  {
   "cell_type": "code",
   "execution_count": 3,
   "metadata": {},
   "outputs": [
    {
     "data": {
      "text/plain": [
       "bool"
      ]
     },
     "execution_count": 3,
     "metadata": {},
     "output_type": "execute_result"
    }
   ],
   "source": [
    "type(5 > 1)"
   ]
  },
  {
   "cell_type": "code",
   "execution_count": 4,
   "metadata": {},
   "outputs": [
    {
     "data": {
      "text/plain": [
       "str"
      ]
     },
     "execution_count": 4,
     "metadata": {},
     "output_type": "execute_result"
    }
   ],
   "source": [
    "type('5')"
   ]
  },
  {
   "cell_type": "code",
   "execution_count": 5,
   "metadata": {},
   "outputs": [
    {
     "data": {
      "text/plain": [
       "int"
      ]
     },
     "execution_count": 5,
     "metadata": {},
     "output_type": "execute_result"
    }
   ],
   "source": [
    "type(5 * 2)"
   ]
  },
  {
   "cell_type": "code",
   "execution_count": 6,
   "metadata": {},
   "outputs": [
    {
     "data": {
      "text/plain": [
       "str"
      ]
     },
     "execution_count": 6,
     "metadata": {},
     "output_type": "execute_result"
    }
   ],
   "source": [
    "type('5' * 2)"
   ]
  },
  {
   "cell_type": "code",
   "execution_count": 7,
   "metadata": {},
   "outputs": [
    {
     "data": {
      "text/plain": [
       "str"
      ]
     },
     "execution_count": 7,
     "metadata": {},
     "output_type": "execute_result"
    }
   ],
   "source": [
    "type('5' + '2')"
   ]
  },
  {
   "cell_type": "code",
   "execution_count": 8,
   "metadata": {},
   "outputs": [
    {
     "data": {
      "text/plain": [
       "int"
      ]
     },
     "execution_count": 8,
     "metadata": {},
     "output_type": "execute_result"
    }
   ],
   "source": [
    "type(5 // 2)"
   ]
  },
  {
   "cell_type": "code",
   "execution_count": 9,
   "metadata": {},
   "outputs": [
    {
     "data": {
      "text/plain": [
       "list"
      ]
     },
     "execution_count": 9,
     "metadata": {},
     "output_type": "execute_result"
    }
   ],
   "source": [
    "type([5, 2, 1])"
   ]
  },
  {
   "cell_type": "code",
   "execution_count": 10,
   "metadata": {},
   "outputs": [
    {
     "data": {
      "text/plain": [
       "bool"
      ]
     },
     "execution_count": 10,
     "metadata": {},
     "output_type": "execute_result"
    }
   ],
   "source": [
    "type(5 in [1, 4, 6])"
   ]
  },
  {
   "cell_type": "code",
   "execution_count": 11,
   "metadata": {},
   "outputs": [
    {
     "data": {
      "text/plain": [
       "float"
      ]
     },
     "execution_count": 11,
     "metadata": {},
     "output_type": "execute_result"
    }
   ],
   "source": [
    "import math\n",
    "type(math.pi)"
   ]
  },
  {
   "cell_type": "markdown",
   "metadata": {},
   "source": [
    "Question 2：Write (and evaluate) Python expressions that answer these questions"
   ]
  },
  {
   "cell_type": "code",
   "execution_count": 12,
   "metadata": {},
   "outputs": [
    {
     "data": {
      "text/plain": [
       "34"
      ]
     },
     "execution_count": 12,
     "metadata": {},
     "output_type": "execute_result"
    }
   ],
   "source": [
    "#a)\n",
    "s1='Supercalifragilisticexpialidocious'\n",
    "len(s1)"
   ]
  },
  {
   "cell_type": "code",
   "execution_count": 13,
   "metadata": {},
   "outputs": [
    {
     "data": {
      "text/plain": [
       "True"
      ]
     },
     "execution_count": 13,
     "metadata": {},
     "output_type": "execute_result"
    }
   ],
   "source": [
    "#b)\n",
    "'ice'in s1"
   ]
  },
  {
   "cell_type": "code",
   "execution_count": 14,
   "metadata": {},
   "outputs": [],
   "source": [
    "#c)\n",
    "s2='Honorificabilitudinitatibus'\n",
    "s3='Bababadalgharaghtakamminarronnkonn'"
   ]
  },
  {
   "cell_type": "code",
   "execution_count": 16,
   "metadata": {},
   "outputs": [
    {
     "data": {
      "text/plain": [
       "'Supercalifragilisticexpialidocious'"
      ]
     },
     "execution_count": 16,
     "metadata": {},
     "output_type": "execute_result"
    }
   ],
   "source": [
    "lst=[s1,s2,s3]\n",
    "max(lst)"
   ]
  },
  {
   "cell_type": "code",
   "execution_count": 17,
   "metadata": {},
   "outputs": [
    {
     "name": "stdout",
     "output_type": "stream",
     "text": [
      "['Bartok', 'Bellini', 'Berlioz', 'Bernstein', 'Borodin', 'Brian', 'Buxtehude']\n"
     ]
    }
   ],
   "source": [
    "#d)\n",
    "composer=list(['Berlioz', 'Borodin', 'Brian', 'Bartok', 'Bellini', 'Buxtehude', 'Bernstein'])\n",
    "sorted_composer=sorted(composer)\n",
    "print(sorted_composer)"
   ]
  },
  {
   "cell_type": "markdown",
   "metadata": {},
   "source": [
    "Question 3:Write a function inside function that tests whether the point in rectangles\n",
    "\n",
    "resource: https://www.geeksforgeeks.org/check-if-a-point-lies-on-or-inside-a-rectangle-set-2/"
   ]
  },
  {
   "cell_type": "code",
   "execution_count": 20,
   "metadata": {},
   "outputs": [
    {
     "name": "stdout",
     "output_type": "stream",
     "text": [
      "No\n"
     ]
    }
   ],
   "source": [
    "def FindPoint(x1, y1, x2,  \n",
    "              y2, x, y) : \n",
    "    if (x > x1 and x < x2 and \n",
    "        y > y1 and y < y2) : \n",
    "        return True\n",
    "    else : \n",
    "        return False\n",
    "  \n",
    "\n",
    "if __name__ == \"__main__\" : \n",
    "  \n",
    "    # lower-left and upper-right \n",
    "    # corners of rectangle. \n",
    "    x1 , y1 , x2 , y2 = 0.3, 0.5, 1.1, 0.7\n",
    "  \n",
    "    # given point \n",
    "    x, y = 1, 1\n",
    "  \n",
    "    # function call \n",
    "    if FindPoint(x1, y1, x2,  \n",
    "                 y2, x, y) : \n",
    "        print(\"Yes\") \n",
    "    else : \n",
    "        print(\"No\") "
   ]
  },
  {
   "cell_type": "code",
   "execution_count": 21,
   "metadata": {},
   "outputs": [
    {
     "name": "stdout",
     "output_type": "stream",
     "text": [
      "Yes\n"
     ]
    }
   ],
   "source": [
    "def FindPoint(x1, y1, x2,  \n",
    "              y2, x, y) : \n",
    "    if (x > x1 and x < x2 and \n",
    "        y > y1 and y < y2) : \n",
    "        return True\n",
    "    else : \n",
    "        return False\n",
    "  \n",
    "\n",
    "if __name__ == \"__main__\" : \n",
    "  \n",
    "    # lower-left and upper-right \n",
    "    # corners of rectangle. \n",
    "    x1 , y1 , x2 , y2 = 0.5, 0.2, 1.1,2\n",
    "  \n",
    "    # given point \n",
    "    x, y = 1, 1\n",
    "  \n",
    "    # function call \n",
    "    if FindPoint(x1, y1, x2,  \n",
    "                 y2, x, y) : \n",
    "        print(\"Yes\") \n",
    "    else : \n",
    "        print(\"No\") "
   ]
  },
  {
   "cell_type": "markdown",
   "metadata": {},
   "source": [
    "Question 4:Write a function pig() that takes a word as input and returns its pigLatin form."
   ]
  },
  {
   "cell_type": "code",
   "execution_count": 22,
   "metadata": {},
   "outputs": [],
   "source": [
    "def pig(word):\n",
    "    pigword=\"\" #modified pig latin word\n",
    "    vowel = ('a','e','i','o','u') #arrays of vowel\n",
    "    if(word[0] in vowel): #if first letter is vowel\n",
    "        print(word[0] + word[1:] + \"way\", end = \" \") \n",
    "    else:                    #if first letter is consonant\n",
    "        l=len(word)\n",
    "        pigword=word[1:l]+word[0]+\"ay\"\n",
    "    print(pigword)\n"
   ]
  },
  {
   "cell_type": "code",
   "execution_count": 24,
   "metadata": {},
   "outputs": [
    {
     "name": "stdout",
     "output_type": "stream",
     "text": [
      "appyhay\n"
     ]
    }
   ],
   "source": [
    "pig(\"happy\") "
   ]
  },
  {
   "cell_type": "code",
   "execution_count": 25,
   "metadata": {},
   "outputs": [
    {
     "name": "stdout",
     "output_type": "stream",
     "text": [
      "enterway \n"
     ]
    }
   ],
   "source": [
    "pig(\"enter\")"
   ]
  },
  {
   "cell_type": "markdown",
   "metadata": {},
   "source": [
    "Question 5:Write a function bldcount() that reads the file with name name and report show many patients there are in each bloodtype\n",
    "\n"
   ]
  },
  {
   "cell_type": "code",
   "execution_count": 26,
   "metadata": {},
   "outputs": [],
   "source": [
    "def bldcount(file):\n",
    "    bfile = open(file,\"r\") #opening file\n",
    "    line = bfile.read() #reading file \n",
    "    bfile.close() #closing file\n",
    "    blood=line.split() #spliting the string and storng it in array\n",
    "    \n",
    "    #initializing count for each blood type\n",
    "    a=0 \n",
    "    b=0\n",
    "    ab=0\n",
    "    o=0\n",
    "    oo=0\n",
    "    \n",
    "    #searching blood type in the array if found increase its count by 1\n",
    "    for x in blood:\n",
    "        if(x==\"A\"):\n",
    "            a=a+1\n",
    "        if(x==\"B\"):\n",
    "            b=b+1\n",
    "        if(x==\"AB\"):\n",
    "            ab=ab+1\n",
    "        if(x==\"O\"):\n",
    "            o=o+1\n",
    "        if(x==\"OO\"):\n",
    "            oo=oo+1\n",
    "            \n",
    "    #printing the result if its more than 1 then prints it else prints no patient \n",
    "    if(a>0):\n",
    "        print(\"There are\",a,\"patients of blood type A\")\n",
    "    else:\n",
    "        print(\"There are no patients of blood type A\")\n",
    "    if(b>0):\n",
    "        print(\"There are\",b,\"patients of blood type B\")\n",
    "    else:\n",
    "        print(\"There are no patients of blood type B\")\n",
    "    if(ab>0):\n",
    "        print(\"There are\",ab,\"patients of blood type AB\")\n",
    "    else:\n",
    "        print(\"There are no patients of blood type AB\")\n",
    "    if(o>0):\n",
    "        print(\"There are\",o,\"patients of blood type O\")\n",
    "    else:\n",
    "        print(\"There are no patients of blood type O\")\n",
    "    if(oo>0):\n",
    "        print(\"There are\",oo,\"patients of blood type OO\")\n",
    "    else:\n",
    "        print(\"There are no patients of blood type OO\")"
   ]
  },
  {
   "cell_type": "code",
   "execution_count": 27,
   "metadata": {},
   "outputs": [
    {
     "name": "stdout",
     "output_type": "stream",
     "text": [
      "There are 15 patients of blood type A\n",
      "There are 1 patients of blood type B\n",
      "There are 13 patients of blood type AB\n",
      "There are 15 patients of blood type O\n",
      "There are no patients of blood type OO\n"
     ]
    }
   ],
   "source": [
    "bldcount(\"D:\\\\bloodtype.txt\")"
   ]
  },
  {
   "cell_type": "markdown",
   "metadata": {},
   "source": [
    "Question 6:Write a function curconv() taht converts the amount"
   ]
  },
  {
   "cell_type": "code",
   "execution_count": 28,
   "metadata": {},
   "outputs": [],
   "source": [
    "def curconv(cur,amt):\n",
    "  if(cur==\"EUR\"):#if currency is EUR\n",
    "    convamt=1.2296544 *amt #multiplying with current value of euro in dollar\n",
    "    print(convamt)\n",
    "  if(cur==\"JPY\"): #if currency is JPY \n",
    "    convamt=0.01241401 *amt #multiplying with current value of jpy in dollar\n",
    "    print(convamt)\n"
   ]
  },
  {
   "cell_type": "code",
   "execution_count": 29,
   "metadata": {},
   "outputs": [
    {
     "name": "stdout",
     "output_type": "stream",
     "text": [
      "1.241401\n"
     ]
    }
   ],
   "source": [
    "curconv(\"JPY\",100)"
   ]
  },
  {
   "cell_type": "code",
   "execution_count": 30,
   "metadata": {},
   "outputs": [
    {
     "name": "stdout",
     "output_type": "stream",
     "text": [
      "122.96544\n"
     ]
    }
   ],
   "source": [
    "curconv(\"EUR\",100)"
   ]
  },
  {
   "cell_type": "markdown",
   "metadata": {},
   "source": [
    "Question 7: Identify the exception"
   ]
  },
  {
   "cell_type": "code",
   "execution_count": null,
   "metadata": {},
   "outputs": [],
   "source": [
    "Trying to add incompatible variables, as in\n",
    "adding 6 + ‘a’\n",
    "NameError\n",
    "Referring to the 12th item of a list that has only 10\n",
    "items  \n",
    "OverflowError\n",
    "Using a value that is out of range for a function’s\n",
    "input, such as calling math.sqrt(-1.0)\n",
    "IndexError\n",
    "Using an undeclared variable, such as print(x)\n",
    "when x has not been defined\n",
    "NameError\n",
    "Trying to open a file that does not exist, such as\n",
    "mistyping the file name or looking in the wrong\n",
    "directory. \n",
    "ImportError"
   ]
  },
  {
   "cell_type": "markdown",
   "metadata": {},
   "source": [
    "Question 8:  Write a function called frequencies(), showing the number of each character"
   ]
  },
  {
   "cell_type": "code",
   "execution_count": 31,
   "metadata": {},
   "outputs": [],
   "source": [
    "# frequency that print a list of integer that count each of char occurance \n",
    "#in string.\n",
    "def frequency(strcount):\n",
    "    # declaring an array and initialising it with 0 of size 26\n",
    "    count_arr = [0]*26; \n",
    "    \n",
    "    #alphabet array to store alphabet for count the char.\n",
    "    abcd=['a','b','c','d','e','f','g','h','i','j','k','l','m','n','o','p','q','r','s','t','u','v','w','x','y','z'] \n",
    "     \n",
    "    for i in range(0,26): \n",
    "        count_arr[i] =strcount.count(abcd[i]);\n",
    "        \n",
    "    #print the result that are stored in count_arr\n",
    "    print(count_arr); "
   ]
  },
  {
   "cell_type": "code",
   "execution_count": 32,
   "metadata": {},
   "outputs": [
    {
     "name": "stdout",
     "output_type": "stream",
     "text": [
      "[1, 1, 1, 3, 5, 1, 1, 2, 1, 0, 1, 0, 1, 2, 4, 0, 1, 2, 0, 2, 1, 0, 1, 1, 0, 0]\n"
     ]
    }
   ],
   "source": [
    "#calling the method\n",
    "frequency('The quick red fox got bored and went home');"
   ]
  },
  {
   "cell_type": "code",
   "execution_count": 33,
   "metadata": {},
   "outputs": [
    {
     "name": "stdout",
     "output_type": "stream",
     "text": [
      "[1, 0, 0, 0, 1, 0, 0, 0, 0, 0, 0, 1, 0, 0, 0, 2, 0, 0, 0, 0, 0, 0, 0, 0, 0, 0]\n"
     ]
    }
   ],
   "source": [
    "frequency('apple')"
   ]
  },
  {
   "cell_type": "markdown",
   "metadata": {},
   "source": [
    "Question 9: Write a function sieve() that takes as input a positive\n",
    "integer n, implements the above algorithm, and returns a list of all prime numbers up\n",
    "to n."
   ]
  },
  {
   "cell_type": "code",
   "execution_count": 39,
   "metadata": {},
   "outputs": [
    {
     "name": "stdout",
     "output_type": "stream",
     "text": [
      "[2, 3, 5, 7, 11, 13, 17, 19, 23, 29, 31, 37, 41, 43, 47, 53]\n",
      "[2, 3, 5, 7, 11, 13, 17, 19, 23, 29, 31, 37, 41, 43, 47, 53, 59, 61, 67, 71, 73, 79, 83, 89, 97, 101, 103, 107, 109, 113, 127, 131, 137, 139, 149, 151, 157, 163, 167, 173, 179, 181, 191, 193, 197, 199, 211, 223, 227, 229, 233, 239, 241, 251, 257, 263, 269, 271, 277, 281, 283, 293, 307, 311, 313, 317, 331, 337, 347, 349, 353, 359, 367]\n",
      "[2, 3, 5, 7, 11, 13, 17, 19, 23, 29, 31]\n"
     ]
    }
   ],
   "source": [
    "#resources:https://coderbyte.com/algorithm/generate-n-primes-sieve-of-eratosthenes-algorithm\n",
    "\n",
    "def sieve(n):\n",
    "    b = list(range(1, n))\n",
    "    for i in range(2, n):\n",
    "        if b[i-2]:\n",
    "            for j in range(2*i, n+1, i):\n",
    "                b[j - 2] = False\n",
    "            yield i\n",
    "\n",
    "print(list(sieve(56)))\n",
    "print(list(sieve(368)))\n",
    "print(list(sieve(32)))"
   ]
  },
  {
   "cell_type": "markdown",
   "metadata": {},
   "source": [
    "Quesion 10: Implement function triangleArea(a,b,c) that takes as input the lengths of the 3\n",
    "sides of a triangle and returns the area of the triangle. \n",
    "\n"
   ]
  },
  {
   "cell_type": "code",
   "execution_count": 37,
   "metadata": {},
   "outputs": [],
   "source": [
    "import math\n",
    "\n",
    "# calculate the area\n",
    "def triangleArea(a, b, c):\n",
    "    s = (a+b+c)//2\n",
    "    return math.sqrt(s*(s-a)*(s-b)*(s-c))"
   ]
  },
  {
   "cell_type": "code",
   "execution_count": 38,
   "metadata": {},
   "outputs": [
    {
     "data": {
      "text/plain": [
       "1.7320508075688772"
      ]
     },
     "execution_count": 38,
     "metadata": {},
     "output_type": "execute_result"
    }
   ],
   "source": [
    "triangleArea(2,2,2)"
   ]
  },
  {
   "cell_type": "code",
   "execution_count": null,
   "metadata": {},
   "outputs": [],
   "source": []
  }
 ],
 "metadata": {
  "kernelspec": {
   "display_name": "Python 3",
   "language": "python",
   "name": "python3"
  },
  "language_info": {
   "codemirror_mode": {
    "name": "ipython",
    "version": 3
   },
   "file_extension": ".py",
   "mimetype": "text/x-python",
   "name": "python",
   "nbconvert_exporter": "python",
   "pygments_lexer": "ipython3",
   "version": "3.8.3"
  }
 },
 "nbformat": 4,
 "nbformat_minor": 4
}
